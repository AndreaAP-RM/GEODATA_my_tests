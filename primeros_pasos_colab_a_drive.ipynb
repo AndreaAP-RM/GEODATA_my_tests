{
  "nbformat": 4,
  "nbformat_minor": 0,
  "metadata": {
    "colab": {
      "provenance": [],
      "authorship_tag": "ABX9TyPRaOC1mh3hlWaYtbAULNpY",
      "include_colab_link": true
    },
    "kernelspec": {
      "name": "python3",
      "display_name": "Python 3"
    },
    "language_info": {
      "name": "python"
    }
  },
  "cells": [
    {
      "cell_type": "markdown",
      "metadata": {
        "id": "view-in-github",
        "colab_type": "text"
      },
      "source": [
        "<a href=\"https://colab.research.google.com/github/AndreaAP-RM/GEODATA_my_tests/blob/main/primeros_pasos_colab_a_drive.ipynb\" target=\"_parent\"><img src=\"https://colab.research.google.com/assets/colab-badge.svg\" alt=\"Open In Colab\"/></a>"
      ]
    },
    {
      "cell_type": "code",
      "execution_count": null,
      "metadata": {
        "id": "FntKMU7ToBMz"
      },
      "outputs": [],
      "source": [
        "#cargar datos desde Drive\n",
        "import pandas as pd\n",
        "arboles = pd.read_csv('/content/drive/MyDrive/Colab Notebooks/arboles_IFN3_ejemplo-pinaster.csv')"
      ]
    },
    {
      "cell_type": "code",
      "source": [
        "#importar drive y establecer conexión\n",
        "from google.colab import drive\n",
        "drive.mount('/content/drive')"
      ],
      "metadata": {
        "colab": {
          "base_uri": "https://localhost:8080/"
        },
        "id": "3ZCP9Pi67hqv",
        "outputId": "795e5f0e-de22-4e90-a89d-73e485c4172a"
      },
      "execution_count": 2,
      "outputs": [
        {
          "output_type": "stream",
          "name": "stdout",
          "text": [
            "Mounted at /content/drive\n"
          ]
        }
      ]
    }
  ]
}